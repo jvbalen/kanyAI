{
 "cells": [
  {
   "cell_type": "code",
   "execution_count": 15,
   "metadata": {
    "collapsed": false
   },
   "outputs": [
    {
     "name": "stdout",
     "output_type": "stream",
     "text": [
      "Populating the interactive namespace from numpy and matplotlib\n"
     ]
    }
   ],
   "source": [
    "%pylab inline\n",
    "from __future__ import print_function\n",
    "import librosa as lr\n",
    "import pandas as pd"
   ]
  },
  {
   "cell_type": "code",
   "execution_count": 127,
   "metadata": {
    "collapsed": false
   },
   "outputs": [
    {
     "name": "stdout",
     "output_type": "stream",
     "text": [
      "143\n"
     ]
    }
   ],
   "source": [
    "audio_folder = '../../audio/wav/'\n",
    "feature_folder = '../../features/'\n",
    "audio_list_file = '../../database/audio_files.csv'\n",
    "audio_ext = '.wav'\n",
    "\n",
    "audio_list = pd.read_csv(audio_list_file, header=-1).values\n",
    "audio_list = list(audio_list.T[0])\n",
    "n_audio_files = len(audio_list)\n",
    "print(n_audio_files)"
   ]
  },
  {
   "cell_type": "markdown",
   "metadata": {},
   "source": [
    "### FEATURE EXTRACTION TEST"
   ]
  },
  {
   "cell_type": "code",
   "execution_count": 144,
   "metadata": {
    "collapsed": false
   },
   "outputs": [],
   "source": [
    "hop_length = 512\n",
    "file_name = audio_list[0]\n",
    "\n",
    "y, sr = lr.load(audio_folder + file_name + audio_ext)\n",
    "\n",
    "tempo, beat_frames = lr.beat.beat_track(y=y, hop_length=hop_length, sr=sr)\n",
    "beat_times = lr.frames_to_time(beat_frames, sr=sr)\n",
    "np.savetxt(file_name + '_beat_frames.csv', beat_frames, delimiter=',')\n",
    "np.savetxt(file_name + '_beat_times.csv', beat_times, delimiter=',')\n",
    "\n",
    "mfcc_frames = lr.feature.mfcc(y=y, sr=sr, hop_length=hop_length, n_mfcc=13)\n",
    "mfcc_beats = lr.feature.sync(mfcc_frames, beat_frames, aggregate=np.median)\n",
    "mfcc_beats_data = pd.DataFrame(np.hstack([beat_times.reshape([-1,1]), mfcc_beats.T[1:]]))\n",
    "np.savetxt(file_name + '_mfcc_beat.csv', mfcc_beats_data, delimiter=',')"
   ]
  },
  {
   "cell_type": "markdown",
   "metadata": {},
   "source": [
    "### FEATURE EXTRACTION LOOP"
   ]
  },
  {
   "cell_type": "code",
   "execution_count": null,
   "metadata": {
    "collapsed": false
   },
   "outputs": [
    {
     "name": "stdout",
     "output_type": "stream",
     "text": [
      "processing T001...\n",
      "processing T002...\n",
      "processing T003...\n",
      "processing T004...\n",
      "processing T005...\n",
      "processing T006...\n",
      "processing T007...\n",
      "processing T008...\n",
      "processing T009...\n",
      "processing T010...\n",
      "processing T011...\n",
      "processing T012...\n",
      "processing T013...\n",
      "processing T014...\n",
      "processing T015...\n",
      "processing T016...\n",
      "processing T017...\n",
      "processing T018...\n",
      "processing T020...\n",
      "processing T021...\n",
      "processing T022...\n",
      "processing T023...\n",
      "processing T024...\n",
      "processing T025...\n",
      "processing T026...\n",
      "processing T027..."
     ]
    }
   ],
   "source": [
    "hop_length = 512\n",
    "for file_name in audio_list:\n",
    "    print('processing ' + file_name + '...')\n",
    "    y, sr = lr.load(audio_folder + file_name + audio_ext)\n",
    "    \n",
    "    tempo, beat_frames = lr.beat.beat_track(y=y, hop_length=hop_length, sr=sr)\n",
    "    beat_times = lr.frames_to_time(beat_frames, sr=sr)\n",
    "    np.savetxt(feature_folder + file_name + '_beat_frames.csv', beat_frames, delimiter=',')\n",
    "    np.savetxt(feature_folder + file_name + '_beat_times.csv', beat_times, delimiter=',')\n",
    "    \n",
    "    mfcc_frames = lr.feature.mfcc(y=y, sr=sr, hop_length=hop_length, n_mfcc=13)\n",
    "    mfcc_beats = lr.feature.sync(mfcc_frames, beat_frames, aggregate=np.median)\n",
    "    mfcc_beats_data = pd.DataFrame(np.hstack([beat_times.reshape([-1,1]), mfcc_beats.T[1:]]))\n",
    "    np.savetxt(feature_folder + file_name + '_mfcc_beat.csv', mfcc_beats_data, delimiter=',')"
   ]
  },
  {
   "cell_type": "code",
   "execution_count": null,
   "metadata": {
    "collapsed": true
   },
   "outputs": [],
   "source": [
    "import librosa as lr\n",
    "\n",
    "def beat_aggregation(feature_data, file_name, time_col=False, agg_function=np.median):\n",
    "    feat_frames = np.genfromtxt(feature_data).T\n",
    "    if time_col:\n",
    "        feat_frames = feat_frames[1:]\n",
    "    beat_frames = np.genfromtxt(file_name + '_beat_frames.csv')\n",
    "    feat_beats = lr.feature.sync(mfcc_frames, beat_frames, aggregate=agg_function)\n",
    "    np.savetxt(feature_data.split('.')[-2] + '_beat.csv', mfcc_beats_data, delimiter=',')"
   ]
  }
 ],
 "metadata": {
  "kernelspec": {
   "display_name": "Python 2",
   "language": "python",
   "name": "python2"
  },
  "language_info": {
   "codemirror_mode": {
    "name": "ipython",
    "version": 2
   },
   "file_extension": ".py",
   "mimetype": "text/x-python",
   "name": "python",
   "nbconvert_exporter": "python",
   "pygments_lexer": "ipython2",
   "version": "2.7.10"
  }
 },
 "nbformat": 4,
 "nbformat_minor": 0
}
