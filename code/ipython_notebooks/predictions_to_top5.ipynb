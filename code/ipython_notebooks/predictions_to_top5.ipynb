{
 "cells": [
  {
   "cell_type": "code",
   "execution_count": 1,
   "metadata": {
    "collapsed": false
   },
   "outputs": [
    {
     "name": "stdout",
     "output_type": "stream",
     "text": [
      "Populating the interactive namespace from numpy and matplotlib\n"
     ]
    }
   ],
   "source": [
    "%pylab inline"
   ]
  },
  {
   "cell_type": "code",
   "execution_count": 2,
   "metadata": {
    "collapsed": false
   },
   "outputs": [
    {
     "ename": "ImportError",
     "evalue": "No module named image",
     "output_type": "error",
     "traceback": [
      "\u001b[0;31m---------------------------------------------------------------------------\u001b[0m",
      "\u001b[0;31mImportError\u001b[0m                               Traceback (most recent call last)",
      "\u001b[0;32m<ipython-input-2-9816a8dec1b6>\u001b[0m in \u001b[0;36m<module>\u001b[0;34m()\u001b[0m\n\u001b[0;32m----> 1\u001b[0;31m \u001b[0;32mimport\u001b[0m \u001b[0mscipy\u001b[0m\u001b[0;34m.\u001b[0m\u001b[0mimage\u001b[0m \u001b[0;32mas\u001b[0m \u001b[0mim\u001b[0m\u001b[0;34m\u001b[0m\u001b[0m\n\u001b[0m",
      "\u001b[0;31mImportError\u001b[0m: No module named image"
     ]
    }
   ],
   "source": [
    "import scipy.image as im"
   ]
  },
  {
   "cell_type": "code",
   "execution_count": 58,
   "metadata": {
    "collapsed": false,
    "scrolled": true
   },
   "outputs": [
    {
     "name": "stdout",
     "output_type": "stream",
     "text": [
      "../../demo/predictions/01 Can't Get Enough Of Your Love_prediction.csv\n",
      "(408,)\n",
      "[382 381 380 389 400]\n",
      "../../demo/predictions/01 I Want You [Vocal Version]_prediction.csv\n",
      "(452,)\n",
      "[438 437 443 439 444]\n",
      "../../demo/predictions/01 The Look Of Love_prediction.csv\n",
      "(960,)\n",
      "[799 800 801 794 952]\n",
      "../../demo/predictions/04 (Don't Worry) If There's a Hel_prediction.csv\n",
      "(828,)\n",
      "[108 107 106 115 111]\n",
      "../../demo/predictions/05 It's A Man's Man's World_prediction.csv\n",
      "(430,)\n",
      "[212 210   1 213 211]\n",
      "../../demo/predictions/05 Love on a Two-Way Street_prediction.csv\n",
      "(482,)\n",
      "[39 21 22 37 20]\n",
      "../../demo/predictions/05 Stop, Look, Listen (To Your Heart)_prediction.csv\n",
      "(659,)\n",
      "[535 534 533 377 382]\n",
      "../../demo/predictions/06 Brazilian Rhyme (Interlude)_prediction.csv\n",
      "(143,)\n",
      "[39 22  2  1  0]\n",
      "../../demo/predictions/06 Everybody Is a Star_prediction.csv\n",
      "(517,)\n",
      "[11 12 13  6  0]\n",
      "../../demo/predictions/06 For the Love of Money_prediction.csv\n",
      "(706,)\n",
      "[ 21  20  19 697 698]\n",
      "../../demo/predictions/06 Grandma's Hands_prediction.csv\n",
      "(1037,)\n",
      "[ 523  522 1028  176    0]\n",
      "../../demo/predictions/07 Rescue Me_prediction.csv\n",
      "(342,)\n",
      "[164 165 166  13 167]\n",
      "../../demo/predictions/12 Theme from Shaft_prediction.csv\n",
      "(377,)\n",
      "[4 3 2 1 0]\n",
      "../../demo/predictions/13 Ain't Nothing Like The Real Thing - Tammi Terrell_prediction.csv\n",
      "(399,)\n",
      "[4 3 2 1 0]\n",
      "../../demo/predictions/13 Brother's Gonna Work It Out_prediction.csv\n",
      "(515,)\n",
      "[152 153 154 130   0]\n"
     ]
    }
   ],
   "source": [
    "import os\n",
    "pred_folder = '../../demo/predictions/'\n",
    "top_folder = '../../demo/top/'\n",
    "\n",
    "def get_top_frames(pred, thr_first_beat=0.5, n_beats=8, n_top=5):\n",
    "    corr = np.correlate(pred, np.ones((n_beats,)))\n",
    "    start = corr*(pred[:len(corr)] >= thr_first_beat)\n",
    "#     plot(pred)\n",
    "#     plot(corr)\n",
    "#     plot(start)\n",
    "    top = np.argsort(start)\n",
    "    return top[-n_top:]\n",
    "\n",
    "for f in os.listdir(pred_folder):\n",
    "    file_path = os.path.join(pred_folder, f)\n",
    "    print file_path\n",
    "    if os.path.isfile(file_path) and file_path.endswith('.csv'):\n",
    "        pred = np.genfromtxt(file_path, delimiter=',').T\n",
    "        print pred.shape\n",
    "        top = get_top_frames(pred, thr_first_beat=0.5, n_beats=8, n_top=5)\n",
    "        print top\n",
    "        np.savetxt(os.path.join(top_folder, f), top, delimiter=',')\n",
    "\n",
    "# get_top_frames(random.randint(0,2,(100,)))"
   ]
  },
  {
   "cell_type": "code",
   "execution_count": 15,
   "metadata": {
    "collapsed": false
   },
   "outputs": [
    {
     "data": {
      "text/plain": [
       "100"
      ]
     },
     "execution_count": 15,
     "metadata": {},
     "output_type": "execute_result"
    }
   ],
   "source": [
    "len(a)"
   ]
  },
  {
   "cell_type": "code",
   "execution_count": 16,
   "metadata": {
    "collapsed": false
   },
   "outputs": [
    {
     "data": {
      "text/plain": [
       "97"
      ]
     },
     "execution_count": 16,
     "metadata": {},
     "output_type": "execute_result"
    }
   ],
   "source": [
    "len(b)"
   ]
  },
  {
   "cell_type": "code",
   "execution_count": null,
   "metadata": {
    "collapsed": true
   },
   "outputs": [],
   "source": []
  }
 ],
 "metadata": {
  "kernelspec": {
   "display_name": "Python 2",
   "language": "python",
   "name": "python2"
  },
  "language_info": {
   "codemirror_mode": {
    "name": "ipython",
    "version": 2
   },
   "file_extension": ".py",
   "mimetype": "text/x-python",
   "name": "python",
   "nbconvert_exporter": "python",
   "pygments_lexer": "ipython2",
   "version": "2.7.10"
  }
 },
 "nbformat": 4,
 "nbformat_minor": 0
}
